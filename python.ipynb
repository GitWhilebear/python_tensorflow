{
 "cells": [
  {
   "cell_type": "markdown",
   "metadata": {},
   "source": [
    "## 元类\n",
    "元类，type类的子类，用于创建一个类对象，在class语句的末尾执行一次"
   ]
  },
  {
   "cell_type": "code",
   "execution_count": null,
   "metadata": {},
   "outputs": [],
   "source": [
    "class Meta(type):\n",
    "    def __new__(meta, classname, supers, classdict):\n",
    "        print(\"meta __new__ call step 1\")\n",
    "        return type.__new__(meta, classname, supers, classdict)\n",
    "    def __init__(Class, classname, supers, classdict):\n",
    "        print(\"meta __init__ call step 2\")\n"
   ]
  },
  {
   "cell_type": "code",
   "execution_count": 2,
   "metadata": {},
   "outputs": [
    {
     "name": "stdout",
     "output_type": "stream",
     "text": [
      "meta __new__ call step 1\n",
      "meta __init__ call step 2\n"
     ]
    }
   ],
   "source": [
    "class Test(object, metaclass=Meta):\n",
    "    def __new__(cls):\n",
    "        print(\"Test __new__ call step3\")\n",
    "        return object.__new__(cls)\n",
    "    def __init__(self):\n",
    "        print(\"Test __init__ call step4\")\n",
    "        self.name = \"hello world\""
   ]
  },
  {
   "cell_type": "markdown",
   "metadata": {},
   "source": [
    "以上示例可以看到，class语句最后，python会自动通过元类生产一个Test的类（型）对象，其继承object"
   ]
  },
  {
   "cell_type": "code",
   "execution_count": 3,
   "metadata": {},
   "outputs": [
    {
     "name": "stdout",
     "output_type": "stream",
     "text": [
      "Test __new__ call step3\n",
      "Test __init__ call step4\n"
     ]
    },
    {
     "data": {
      "text/plain": [
       "<__main__.Test at 0x103f304c0>"
      ]
     },
     "execution_count": 3,
     "metadata": {},
     "output_type": "execute_result"
    }
   ],
   "source": [
    "Test()"
   ]
  },
  {
   "cell_type": "code",
   "execution_count": 9,
   "metadata": {},
   "outputs": [
    {
     "name": "stdout",
     "output_type": "stream",
     "text": [
      "Test __new__ call step3\n",
      "dict_keys([])\n",
      "dict_keys(['__module__', '__new__', '__init__', '__dict__', '__weakref__', '__doc__'])\n",
      "Test __init__ call step4\n",
      "dict_keys(['name'])\n"
     ]
    }
   ],
   "source": [
    "# Test() 等价于如下方法：\n",
    "## Test类对象通过调用__new__并传入自身的方式生产出一个实例对象test，test实例对象是没有被初始化的，\n",
    "## 再通过Test类对象调用__init__方法并传入test实例对象本身，完成初始化。\n",
    "test = Test.__new__(Test)\n",
    "print(test.__dict__.keys())\n",
    "print(Test.__dict__.keys())\n",
    "Test.__init__(test)\n",
    "print(test.__dict__.keys())"
   ]
  },
  {
   "cell_type": "markdown",
   "metadata": {},
   "source": [
    "- Test类（型）对象在class语句（or class协议）结束时，被python自动创建，创建方式是通过调用元类（即type的子类）的__call__方法，该方法自动调用元类的__new__ 和__init__生产了一个Test类对象\n",
    "- Test的实例对象在创建时自动链接到Test类对象上\n",
    "- 对象的属性（方法）通过继承搜索的方式执行"
   ]
  },
  {
   "cell_type": "code",
   "execution_count": 4,
   "metadata": {},
   "outputs": [
    {
     "name": "stdout",
     "output_type": "stream",
     "text": [
      "dict_keys([])\n",
      "new reader\n",
      "new reader\n",
      "dict_keys(['reader'])\n",
      "old reader\n"
     ]
    }
   ],
   "source": [
    "class Out():\n",
    "    def func(self):\n",
    "        if 'reader' not in self.__dict__.keys():\n",
    "            self.reader = \"new reader\"\n",
    "        else:\n",
    "            self.reader = \"old reader\"\n",
    "        def inner():\n",
    "            print(self.reader)\n",
    "        return inner\n",
    "\n",
    "out = Out()\n",
    "print(out.__dict__.keys())\n",
    "func_1 = out.func()\n",
    "func_1()\n",
    "# 第二次调用func_1时，函数体只执行print(self.reader),而self.reader则是在第一次调用out.func()时生成的\n",
    "func_1()\n",
    "print(out.__dict__.keys())\n",
    "# 再一次执行的时候，实例out已经有reader这个属性了\n",
    "func_2 = out.func()\n",
    "func_2()"
   ]
  }
 ],
 "metadata": {
  "interpreter": {
   "hash": "8df8482a260c96e0faf1bc1d54fcad715fe25de9dce7e523837d2bb1d92a3e9d"
  },
  "kernelspec": {
   "display_name": "Python 3.8.10 64-bit ('tensorflow2': conda)",
   "language": "python",
   "name": "python3"
  },
  "language_info": {
   "codemirror_mode": {
    "name": "ipython",
    "version": 3
   },
   "file_extension": ".py",
   "mimetype": "text/x-python",
   "name": "python",
   "nbconvert_exporter": "python",
   "pygments_lexer": "ipython3",
   "version": "3.8.10"
  },
  "orig_nbformat": 4
 },
 "nbformat": 4,
 "nbformat_minor": 2
}
