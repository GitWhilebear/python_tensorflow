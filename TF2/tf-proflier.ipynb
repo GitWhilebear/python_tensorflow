{
 "cells": [
  {
   "cell_type": "code",
   "execution_count": 1,
   "metadata": {},
   "outputs": [
    {
     "name": "stdout",
     "output_type": "stream",
     "text": [
      "Tensorflow Version is  2.4.1\n",
      "Epoch 1/5\n"
     ]
    }
   ],
   "source": [
    "from datetime import datetime\n",
    "from inspect import trace\n",
    "import os\n",
    "\n",
    "import tensorflow as tf\n",
    "import tensorflow_datasets as tfds\n",
    "\n",
    "print(\"Tensorflow Version is \", tf.__version__)\n",
    "\n",
    "def getDataset():\n",
    "    (ds_train, ds_test), ds_info = tfds.load(\n",
    "        'mnist',\n",
    "        split=['train', 'test'],\n",
    "        shuffle_files=True,\n",
    "        as_supervised=True,\n",
    "        with_info=True\n",
    "    )\n",
    "    def normalize_img(image, label):\n",
    "        \"\"\" Normalizes images : uint8 > float32\"\"\"\n",
    "        return tf.cast(image, tf.float32)/255, label\n",
    "    ds_train = ds_train.map(normalize_img).shuffle(ds_info.splits['train'].num_examples)\n",
    "    ds_train = ds_train.batch(128)\n",
    "\n",
    "    ds_test = ds_test.map(normalize_img).batch(6)\n",
    "    return (ds_train, ds_test)\n",
    "\n",
    "def getModel():\n",
    "    model = tf.keras.Sequential([\n",
    "        tf.keras.layers.Flatten(input_shape=[28, 28, 1]),\n",
    "        tf.keras.layers.Dense(8, activation='relu'),\n",
    "        tf.keras.layers.Dense(10, activation='softmax')]\n",
    "        )\n",
    "    return model\n",
    "\n",
    "def main():\n",
    "    (ds_train, ds_test) = getDataset()\n",
    "    model = getModel()\n",
    "    # '编译'模型\n",
    "    model.compile(\n",
    "        loss='sparse_categorical_crossentropy',\n",
    "        optimizer=tf.keras.optimizers.Adam(0.001),\n",
    "        metrics=['accuracy'],\n",
    "    )\n",
    "    logs = \"logs/\"+datetime.now().strftime(\"%Y%m%d-%H%M%S\")\n",
    "    tb_callback = tf.keras.callbacks.TensorBoard(log_dir=logs, profile_batch='20, 40')\n",
    "    \n",
    "    model.fit(ds_train, epochs=5, validation_data=ds_test, callbacks=[tb_callback])\n",
    "\n",
    "if __name__ == '__main__':\n",
    "    main()\n"
   ]
  }
 ],
 "metadata": {
  "interpreter": {
   "hash": "8df8482a260c96e0faf1bc1d54fcad715fe25de9dce7e523837d2bb1d92a3e9d"
  },
  "kernelspec": {
   "display_name": "Python 3.8.10 64-bit ('tensorflow2': conda)",
   "language": "python",
   "name": "python3"
  },
  "language_info": {
   "codemirror_mode": {
    "name": "ipython",
    "version": 3
   },
   "file_extension": ".py",
   "mimetype": "text/x-python",
   "name": "python",
   "nbconvert_exporter": "python",
   "pygments_lexer": "ipython3",
   "version": "3.8.10"
  },
  "orig_nbformat": 4
 },
 "nbformat": 4,
 "nbformat_minor": 2
}
